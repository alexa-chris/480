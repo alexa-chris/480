{
 "cells": [
  {
   "cell_type": "markdown",
   "metadata": {},
   "source": [
    "# Lab 3 - Generalized Linear Regression"
   ]
  },
  {
   "cell_type": "markdown",
   "metadata": {},
   "source": [
    "## Import and Prepare the Data"
   ]
  },
  {
   "cell_type": "code",
   "execution_count": 3,
   "metadata": {
    "collapsed": false
   },
   "outputs": [
    {
     "name": "stdout",
     "output_type": "stream",
     "text": [
      "[[ 10018   1541      3      2]\n",
      " [  8712   1810      4      2]\n",
      " [ 13504   1456      3      2]\n",
      " [ 10130   2903      5      4]\n",
      " [ 18295   2616      3      2]\n",
      " [204732   3850      3      2]\n",
      " [  9147   1000      3      1]\n",
      " [  2300    920      2      2]\n",
      " [ 13939   2705      3      3]\n",
      " [  2291   1440      4      3]]\n"
     ]
    }
   ],
   "source": [
    "import sklearn\n",
    "from sklearn.model_selection import train_test_split\n",
    "from matplotlib import pyplot as plt\n",
    "%matplotlib inline\n",
    "import pandas\n",
    "import numpy as np\n",
    "\n",
    "df = pandas.read_excel('house_price.xlsx')\n",
    "\n",
    "X = np.column_stack((df.lot_size, df.area, df.bedroom, df.bathroom))\n",
    "y = df.price\n",
    "print(X[:10])\n",
    "\n",
    "X_train, X_test, y_train, y_test = train_test_split(X, y, test_size=0.3, random_state=3)\n"
   ]
  },
  {
   "cell_type": "markdown",
   "metadata": {},
   "source": [
    "# Ordinary Least Squares"
   ]
  },
  {
   "cell_type": "code",
   "execution_count": 4,
   "metadata": {
    "collapsed": false,
    "scrolled": true
   },
   "outputs": [
    {
     "name": "stdout",
     "output_type": "stream",
     "text": [
      "lr.coef_: [  2.12812203e-01   4.09817896e+01   1.34769478e+04   4.47428552e+04]\n",
      "lr.intercept_: 16022.12534700043\n",
      "Training R Square: 0.96\n",
      "Test R Square: 0.71\n"
     ]
    }
   ],
   "source": [
    "from sklearn.linear_model import LinearRegression\n",
    "lr = LinearRegression().fit(X_train, y_train)\n",
    "print('lr.coef_: {}'.format(lr.coef_))\n",
    "print('lr.intercept_: {}'. format(lr.intercept_))\n",
    "print('Training R Square: {:.2f}'.format(lr.score(X_train, y_train)))\n",
    "print('Test R Square: {:.2f}'.format(lr.score(X_test, y_test)))\n"
   ]
  },
  {
   "cell_type": "markdown",
   "metadata": {},
   "source": [
    "# Ridge Regression"
   ]
  },
  {
   "cell_type": "code",
   "execution_count": 5,
   "metadata": {
    "collapsed": false
   },
   "outputs": [
    {
     "name": "stdout",
     "output_type": "stream",
     "text": [
      "Training R Square: 0.96\n",
      "Test R Square: 0.72\n"
     ]
    }
   ],
   "source": [
    "from sklearn.linear_model import Ridge\n",
    "\n",
    "ridge = Ridge().fit(X_train, y_train)\n",
    "print(\"Training R Square: {:.2f}\".format(ridge.score(X_train, y_train)))\n",
    "print(\"Test R Square: {:.2f}\".format(ridge.score(X_test, y_test)))"
   ]
  },
  {
   "cell_type": "code",
   "execution_count": 6,
   "metadata": {
    "collapsed": false
   },
   "outputs": [
    {
     "name": "stdout",
     "output_type": "stream",
     "text": [
      "Training R Square: 0.95\n",
      "Test R Square: 0.75\n"
     ]
    }
   ],
   "source": [
    "ridge10 = Ridge(alpha=10).fit(X_train, y_train)\n",
    "print(\"Training R Square: {:.2f}\".format(ridge10.score(X_train, y_train)))\n",
    "print(\"Test R Square: {:.2f}\".format(ridge10.score(X_test, y_test)))"
   ]
  },
  {
   "cell_type": "code",
   "execution_count": 7,
   "metadata": {
    "collapsed": false
   },
   "outputs": [
    {
     "name": "stdout",
     "output_type": "stream",
     "text": [
      "Training R Square: 0.93\n",
      "Test R Square: 0.79\n"
     ]
    }
   ],
   "source": [
    "ridge1000 = Ridge(alpha=1000).fit(X_train, y_train)\n",
    "print(\"Training R Square: {:.2f}\".format(ridge1000.score(X_train, y_train)))\n",
    "print(\"Test R Square: {:.2f}\".format(ridge1000.score(X_test, y_test)))"
   ]
  },
  {
   "cell_type": "code",
   "execution_count": 9,
   "metadata": {
    "collapsed": false
   },
   "outputs": [
    {
     "data": {
      "text/plain": [
       "<matplotlib.legend.Legend at 0x23419f06b00>"
      ]
     },
     "execution_count": 9,
     "metadata": {},
     "output_type": "execute_result"
    },
    {
     "data": {
      "image/png": "[encoded data removed]",
      "text/plain": [
       "<matplotlib.figure.Figure at 0x23418f7e160>"
      ]
     },
     "metadata": {},
     "output_type": "display_data"
    }
   ],
   "source": [
    "plt.plot(ridge.coef_, 's', label=\"Ridge alpha=1\")\n",
    "plt.plot(ridge10.coef_, '^', label = \"Ridge alpha=10\")\n",
    "plt.plot(ridge1000.coef_, 'v', label = \"Ridge alpha=1000\")\n",
    "plt.plot(lr.coef_, 'o', label='LinearRegression')\n",
    "plt.xlabel(\"Coefficient index\")\n",
    "plt.ylabel(\"Coefficient magnitude\")\n",
    "plt.hlines(0, 0, len(lr.coef_))\n",
    "plt.legend()"
   ]
  },
  {
   "cell_type": "markdown",
   "metadata": {},
   "source": [
    "# Lasso Regression"
   ]
  },
  {
   "cell_type": "code",
   "execution_count": 11,
   "metadata": {
    "collapsed": false
   },
   "outputs": [
    {
     "name": "stdout",
     "output_type": "stream",
     "text": [
      "Training set score: 0.96\n",
      "Test set score: 0.71\n",
      "Number of features used: 4\n"
     ]
    }
   ],
   "source": [
    "from sklearn.linear_model import Lasso\n",
    "\n",
    "lasso = Lasso().fit(X_train, y_train)\n",
    "print(\"Training set score: {:.2f}\".format(lasso.score(X_train, y_train)))\n",
    "print(\"Test set score: {:.2f}\".format(lasso.score(X_test, y_test)))\n",
    "print(\"Number of features used: {}\".format(np.sum(lasso.coef_ !=0)))"
   ]
  },
  {
   "cell_type": "code",
   "execution_count": 12,
   "metadata": {
    "collapsed": false
   },
   "outputs": [
    {
     "name": "stdout",
     "output_type": "stream",
     "text": [
      "Training R Square: 0.96\n",
      "Test R Square: 0.71\n",
      "Number of features used: 4\n"
     ]
    }
   ],
   "source": [
    "lasso10 = Lasso(alpha=10).fit(X_train, y_train) #set different alpha\n",
    "print(\"Training R Square: {:.2f}\".format(lasso10.score(X_train, y_train)))\n",
    "print(\"Test R Square: {:.2f}\".format(lasso10.score(X_test, y_test)))\n",
    "print(\"Number of features used: {}\".format(np.sum(lasso10.coef_ != 0)))"
   ]
  },
  {
   "cell_type": "code",
   "execution_count": 13,
   "metadata": {
    "collapsed": false
   },
   "outputs": [
    {
     "name": "stdout",
     "output_type": "stream",
     "text": [
      "Training R Square: 0.95\n",
      "Test R Square: 0.73\n",
      "Number of features used: 3\n"
     ]
    }
   ],
   "source": [
    "lasso10000 = Lasso(alpha=10000, ).fit(X_train, y_train)\n",
    "print(\"Training R Square: {:.2f}\".format(lasso10000.score(X_train, y_train)))\n",
    "print(\"Test R Square: {:.2f}\".format(lasso10000.score(X_test, y_test)))\n",
    "print(\"Number of features used: {}\".format(np.sum(lasso10000.coef_ != 0)))"
   ]
  },
  {
   "cell_type": "code",
   "execution_count": 14,
   "metadata": {
    "collapsed": false
   },
   "outputs": [
    {
     "data": {
      "text/plain": [
       "<matplotlib.text.Text at 0x23419f9e0b8>"
      ]
     },
     "execution_count": 14,
     "metadata": {},
     "output_type": "execute_result"
    },
    {
     "data": {
      "image/png": "[encoded data removed]",
      "text/plain": [
       "<matplotlib.figure.Figure at 0x23418f7eef0>"
      ]
     },
     "metadata": {},
     "output_type": "display_data"
    }
   ],
   "source": [
    "plt.plot(lasso.coef_, 's', label=\"Lasso alpha=1\")\n",
    "plt.plot(lasso10.coef_, '^', label=\"Lasso alpha=10\")\n",
    "plt.plot(lasso10000.coef_, 'v', label=\"Lasso alpha=10000\")\n",
    "plt.plot(lr.coef_, 'o', label=\"LinearRegression\")\n",
    "plt.legend(ncol=2, loc=(0, 1.05))\n",
    "plt.xlabel(\"Coefficient index\")\n",
    "plt.ylabel(\"Coefficient magnitude\")"
   ]
  },
  {
   "cell_type": "code",
   "execution_count": null,
   "metadata": {
    "collapsed": true
   },
   "outputs": [],
   "source": []
  }
 ],
 "metadata": {
  "kernelspec": {
   "display_name": "Python 3",
   "language": "python",
   "name": "python3"
  },
  "language_info": {
   "codemirror_mode": {
    "name": "ipython",
    "version": 3
   },
   "file_extension": ".py",
   "mimetype": "text/x-python",
   "name": "python",
   "nbconvert_exporter": "python",
   "pygments_lexer": "ipython3",
   "version": "3.6.0"
  }
 },
 "nbformat": 4,
 "nbformat_minor": 2
}
